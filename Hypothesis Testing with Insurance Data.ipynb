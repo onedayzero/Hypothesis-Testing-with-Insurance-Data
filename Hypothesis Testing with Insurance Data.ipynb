{
 "cells": [
  {
   "cell_type": "markdown",
   "id": "a08186d7",
   "metadata": {},
   "source": [
    "# Hypothesis Testing with Insurance Data\n",
    "- Clint Atterberry\n",
    "- 9/6/22"
   ]
  },
  {
   "cell_type": "markdown",
   "id": "f456e3e8",
   "metadata": {},
   "source": [
    "We have been asked to use our hypothesis testing skills to answer the following questions:\n",
    "\n",
    "1. Do smokers have higher insurance charges than non-smokers?\n",
    "2. Are men more likely to smoke than women?\n",
    "3. Do different regions have different charges, on average?\n",
    "\n",
    "\n",
    "\n",
    "For each question, make sure to:\n",
    "\n",
    "- State your Null Hypothesis and Alternative Hypothesis\n",
    "- Select the correct test according to the data type and number of samples\n",
    "- Test the assumptions of your selected test.\n",
    "- Execute the selected test, or the alternative test (if you do not meet the assumptions)\n",
    "- Interpret your p-value and reject or fail to reject your null hypothesis \n",
    "- Show a supporting visualization that helps display the result"
   ]
  },
  {
   "cell_type": "markdown",
   "id": "036fc783",
   "metadata": {},
   "source": [
    "# Setup"
   ]
  },
  {
   "cell_type": "markdown",
   "id": "8301d736",
   "metadata": {},
   "source": [
    "## Import and Clean Data"
   ]
  },
  {
   "cell_type": "code",
   "execution_count": 1,
   "id": "bec9dc6c",
   "metadata": {},
   "outputs": [],
   "source": [
    "## Standard Imports\n",
    "import numpy as np\n",
    "import pandas as pd\n",
    "import matplotlib.pyplot as plt\n",
    "import seaborn as sns\n",
    "\n",
    "from scipy import stats\n",
    "\n",
    "## Importing the OS and JSON Modules\n",
    "import os,json"
   ]
  },
  {
   "cell_type": "code",
   "execution_count": 2,
   "id": "99682d08",
   "metadata": {},
   "outputs": [
    {
     "data": {
      "text/html": [
       "<div>\n",
       "<style scoped>\n",
       "    .dataframe tbody tr th:only-of-type {\n",
       "        vertical-align: middle;\n",
       "    }\n",
       "\n",
       "    .dataframe tbody tr th {\n",
       "        vertical-align: top;\n",
       "    }\n",
       "\n",
       "    .dataframe thead th {\n",
       "        text-align: right;\n",
       "    }\n",
       "</style>\n",
       "<table border=\"1\" class=\"dataframe\">\n",
       "  <thead>\n",
       "    <tr style=\"text-align: right;\">\n",
       "      <th></th>\n",
       "      <th>age</th>\n",
       "      <th>sex</th>\n",
       "      <th>bmi</th>\n",
       "      <th>children</th>\n",
       "      <th>smoker</th>\n",
       "      <th>region</th>\n",
       "      <th>charges</th>\n",
       "    </tr>\n",
       "  </thead>\n",
       "  <tbody>\n",
       "    <tr>\n",
       "      <th>0</th>\n",
       "      <td>19</td>\n",
       "      <td>female</td>\n",
       "      <td>27.90</td>\n",
       "      <td>0</td>\n",
       "      <td>yes</td>\n",
       "      <td>southwest</td>\n",
       "      <td>16884.9240</td>\n",
       "    </tr>\n",
       "    <tr>\n",
       "      <th>1</th>\n",
       "      <td>18</td>\n",
       "      <td>male</td>\n",
       "      <td>33.77</td>\n",
       "      <td>1</td>\n",
       "      <td>no</td>\n",
       "      <td>southeast</td>\n",
       "      <td>1725.5523</td>\n",
       "    </tr>\n",
       "  </tbody>\n",
       "</table>\n",
       "</div>"
      ],
      "text/plain": [
       "   age     sex    bmi  children smoker     region     charges\n",
       "0   19  female  27.90         0    yes  southwest  16884.9240\n",
       "1   18    male  33.77         1     no  southeast   1725.5523"
      ]
     },
     "execution_count": 2,
     "metadata": {},
     "output_type": "execute_result"
    }
   ],
   "source": [
    "# load in insurance.csv\n",
    "df = pd.read_csv('Data/insurance.csv')\n",
    "df.head(2)"
   ]
  },
  {
   "cell_type": "code",
   "execution_count": 3,
   "id": "7a863b8e",
   "metadata": {},
   "outputs": [
    {
     "name": "stdout",
     "output_type": "stream",
     "text": [
      "<class 'pandas.core.frame.DataFrame'>\n",
      "RangeIndex: 1338 entries, 0 to 1337\n",
      "Data columns (total 7 columns):\n",
      " #   Column    Non-Null Count  Dtype  \n",
      "---  ------    --------------  -----  \n",
      " 0   age       1338 non-null   int64  \n",
      " 1   sex       1338 non-null   object \n",
      " 2   bmi       1338 non-null   float64\n",
      " 3   children  1338 non-null   int64  \n",
      " 4   smoker    1338 non-null   object \n",
      " 5   region    1338 non-null   object \n",
      " 6   charges   1338 non-null   float64\n",
      "dtypes: float64(2), int64(2), object(3)\n",
      "memory usage: 73.3+ KB\n"
     ]
    }
   ],
   "source": [
    "# exploring dataframe\n",
    "df.info()\n",
    "\n",
    "#  all column names appear appropriate\n",
    "# no missing values\n",
    "# 7 columns, 1338 rows"
   ]
  },
  {
   "cell_type": "code",
   "execution_count": 4,
   "id": "fe5c4793",
   "metadata": {},
   "outputs": [
    {
     "data": {
      "text/plain": [
       "1"
      ]
     },
     "execution_count": 4,
     "metadata": {},
     "output_type": "execute_result"
    }
   ],
   "source": [
    "# check for duplicated data\n",
    "df.duplicated().sum()\n",
    "\n",
    "# 1 duplicate"
   ]
  },
  {
   "cell_type": "code",
   "execution_count": 5,
   "id": "382b11d7",
   "metadata": {},
   "outputs": [
    {
     "data": {
      "text/plain": [
       "0"
      ]
     },
     "execution_count": 5,
     "metadata": {},
     "output_type": "execute_result"
    }
   ],
   "source": [
    "# remove duplicates\n",
    "df.drop_duplicates(inplace=True)\n",
    "df.duplicated().sum()\n",
    "\n",
    "# success!"
   ]
  },
  {
   "cell_type": "code",
   "execution_count": 6,
   "id": "ce8282e1",
   "metadata": {},
   "outputs": [
    {
     "data": {
      "text/html": [
       "<div>\n",
       "<style scoped>\n",
       "    .dataframe tbody tr th:only-of-type {\n",
       "        vertical-align: middle;\n",
       "    }\n",
       "\n",
       "    .dataframe tbody tr th {\n",
       "        vertical-align: top;\n",
       "    }\n",
       "\n",
       "    .dataframe thead th {\n",
       "        text-align: right;\n",
       "    }\n",
       "</style>\n",
       "<table border=\"1\" class=\"dataframe\">\n",
       "  <thead>\n",
       "    <tr style=\"text-align: right;\">\n",
       "      <th></th>\n",
       "      <th>age</th>\n",
       "      <th>bmi</th>\n",
       "      <th>children</th>\n",
       "      <th>charges</th>\n",
       "    </tr>\n",
       "  </thead>\n",
       "  <tbody>\n",
       "    <tr>\n",
       "      <th>count</th>\n",
       "      <td>1337.000000</td>\n",
       "      <td>1337.000000</td>\n",
       "      <td>1337.000000</td>\n",
       "      <td>1337.000000</td>\n",
       "    </tr>\n",
       "    <tr>\n",
       "      <th>mean</th>\n",
       "      <td>39.222139</td>\n",
       "      <td>30.663452</td>\n",
       "      <td>1.095737</td>\n",
       "      <td>13279.121487</td>\n",
       "    </tr>\n",
       "    <tr>\n",
       "      <th>std</th>\n",
       "      <td>14.044333</td>\n",
       "      <td>6.100468</td>\n",
       "      <td>1.205571</td>\n",
       "      <td>12110.359656</td>\n",
       "    </tr>\n",
       "    <tr>\n",
       "      <th>min</th>\n",
       "      <td>18.000000</td>\n",
       "      <td>15.960000</td>\n",
       "      <td>0.000000</td>\n",
       "      <td>1121.873900</td>\n",
       "    </tr>\n",
       "    <tr>\n",
       "      <th>25%</th>\n",
       "      <td>27.000000</td>\n",
       "      <td>26.290000</td>\n",
       "      <td>0.000000</td>\n",
       "      <td>4746.344000</td>\n",
       "    </tr>\n",
       "    <tr>\n",
       "      <th>50%</th>\n",
       "      <td>39.000000</td>\n",
       "      <td>30.400000</td>\n",
       "      <td>1.000000</td>\n",
       "      <td>9386.161300</td>\n",
       "    </tr>\n",
       "    <tr>\n",
       "      <th>75%</th>\n",
       "      <td>51.000000</td>\n",
       "      <td>34.700000</td>\n",
       "      <td>2.000000</td>\n",
       "      <td>16657.717450</td>\n",
       "    </tr>\n",
       "    <tr>\n",
       "      <th>max</th>\n",
       "      <td>64.000000</td>\n",
       "      <td>53.130000</td>\n",
       "      <td>5.000000</td>\n",
       "      <td>63770.428010</td>\n",
       "    </tr>\n",
       "  </tbody>\n",
       "</table>\n",
       "</div>"
      ],
      "text/plain": [
       "               age          bmi     children       charges\n",
       "count  1337.000000  1337.000000  1337.000000   1337.000000\n",
       "mean     39.222139    30.663452     1.095737  13279.121487\n",
       "std      14.044333     6.100468     1.205571  12110.359656\n",
       "min      18.000000    15.960000     0.000000   1121.873900\n",
       "25%      27.000000    26.290000     0.000000   4746.344000\n",
       "50%      39.000000    30.400000     1.000000   9386.161300\n",
       "75%      51.000000    34.700000     2.000000  16657.717450\n",
       "max      64.000000    53.130000     5.000000  63770.428010"
      ]
     },
     "execution_count": 6,
     "metadata": {},
     "output_type": "execute_result"
    }
   ],
   "source": [
    "# explore numeric columns\n",
    "df.describe()\n",
    "\n",
    "# numeric data appears appropriate"
   ]
  },
  {
   "cell_type": "code",
   "execution_count": 7,
   "id": "ca47326d",
   "metadata": {},
   "outputs": [
    {
     "data": {
      "text/plain": [
       "sex     smoker  region   \n",
       "female  no      southwest    141\n",
       "                southeast    139\n",
       "                northwest    135\n",
       "                northeast    132\n",
       "        yes     southeast     36\n",
       "                northeast     29\n",
       "                northwest     29\n",
       "                southwest     21\n",
       "male    no      southeast    134\n",
       "                northwest    131\n",
       "                southwest    126\n",
       "                northeast    125\n",
       "        yes     southeast     55\n",
       "                northeast     38\n",
       "                southwest     37\n",
       "                northwest     29\n",
       "dtype: int64"
      ]
     },
     "execution_count": 7,
     "metadata": {},
     "output_type": "execute_result"
    }
   ],
   "source": [
    "# explore object columns\n",
    "df.select_dtypes('object').groupby('sex').value_counts()\n",
    "\n",
    "# object data appears appropriate"
   ]
  },
  {
   "cell_type": "markdown",
   "id": "93acdd43",
   "metadata": {},
   "source": [
    "# Transform Data"
   ]
  },
  {
   "cell_type": "code",
   "execution_count": 8,
   "id": "3c3086f2",
   "metadata": {},
   "outputs": [],
   "source": [
    "# copy of df\n",
    "ins_df = df.copy()"
   ]
  },
  {
   "cell_type": "markdown",
   "id": "b736fd6d",
   "metadata": {},
   "source": [
    "## OHE Gender"
   ]
  },
  {
   "cell_type": "code",
   "execution_count": 9,
   "id": "35ded910",
   "metadata": {},
   "outputs": [
    {
     "data": {
      "text/html": [
       "<div>\n",
       "<style scoped>\n",
       "    .dataframe tbody tr th:only-of-type {\n",
       "        vertical-align: middle;\n",
       "    }\n",
       "\n",
       "    .dataframe tbody tr th {\n",
       "        vertical-align: top;\n",
       "    }\n",
       "\n",
       "    .dataframe thead th {\n",
       "        text-align: right;\n",
       "    }\n",
       "</style>\n",
       "<table border=\"1\" class=\"dataframe\">\n",
       "  <thead>\n",
       "    <tr style=\"text-align: right;\">\n",
       "      <th></th>\n",
       "      <th>age</th>\n",
       "      <th>bmi</th>\n",
       "      <th>children</th>\n",
       "      <th>smoker</th>\n",
       "      <th>region</th>\n",
       "      <th>charges</th>\n",
       "      <th>male</th>\n",
       "      <th>female</th>\n",
       "    </tr>\n",
       "  </thead>\n",
       "  <tbody>\n",
       "    <tr>\n",
       "      <th>0</th>\n",
       "      <td>19</td>\n",
       "      <td>27.900</td>\n",
       "      <td>0</td>\n",
       "      <td>yes</td>\n",
       "      <td>southwest</td>\n",
       "      <td>16884.92400</td>\n",
       "      <td>0.0</td>\n",
       "      <td>1.0</td>\n",
       "    </tr>\n",
       "    <tr>\n",
       "      <th>1</th>\n",
       "      <td>18</td>\n",
       "      <td>33.770</td>\n",
       "      <td>1</td>\n",
       "      <td>no</td>\n",
       "      <td>southeast</td>\n",
       "      <td>1725.55230</td>\n",
       "      <td>1.0</td>\n",
       "      <td>0.0</td>\n",
       "    </tr>\n",
       "    <tr>\n",
       "      <th>2</th>\n",
       "      <td>28</td>\n",
       "      <td>33.000</td>\n",
       "      <td>3</td>\n",
       "      <td>no</td>\n",
       "      <td>southeast</td>\n",
       "      <td>4449.46200</td>\n",
       "      <td>1.0</td>\n",
       "      <td>0.0</td>\n",
       "    </tr>\n",
       "    <tr>\n",
       "      <th>3</th>\n",
       "      <td>33</td>\n",
       "      <td>22.705</td>\n",
       "      <td>0</td>\n",
       "      <td>no</td>\n",
       "      <td>northwest</td>\n",
       "      <td>21984.47061</td>\n",
       "      <td>1.0</td>\n",
       "      <td>0.0</td>\n",
       "    </tr>\n",
       "    <tr>\n",
       "      <th>4</th>\n",
       "      <td>32</td>\n",
       "      <td>28.880</td>\n",
       "      <td>0</td>\n",
       "      <td>no</td>\n",
       "      <td>northwest</td>\n",
       "      <td>3866.85520</td>\n",
       "      <td>1.0</td>\n",
       "      <td>0.0</td>\n",
       "    </tr>\n",
       "  </tbody>\n",
       "</table>\n",
       "</div>"
      ],
      "text/plain": [
       "   age     bmi  children smoker     region      charges  male  female\n",
       "0   19  27.900         0    yes  southwest  16884.92400   0.0     1.0\n",
       "1   18  33.770         1     no  southeast   1725.55230   1.0     0.0\n",
       "2   28  33.000         3     no  southeast   4449.46200   1.0     0.0\n",
       "3   33  22.705         0     no  northwest  21984.47061   1.0     0.0\n",
       "4   32  28.880         0     no  northwest   3866.85520   1.0     0.0"
      ]
     },
     "execution_count": 9,
     "metadata": {},
     "output_type": "execute_result"
    }
   ],
   "source": [
    "# reference\n",
    "# https://pandas.pydata.org/pandas-docs/stable/user_guide/indexing.html#returning-a-view-versus-a-copy\n",
    "\n",
    "# males 1\n",
    "mask = ins_df['sex'].str.startswith('m')\n",
    "ins_df.loc[mask,('male','female')] = [1,0]\n",
    "\n",
    "# females 1\n",
    "mask = ins_df['sex'].str.startswith('f')\n",
    "ins_df.loc[mask,('male','female')] = [0,1]\n",
    "\n",
    "# drop 'sex'\n",
    "ins_df.drop(columns='sex', inplace=True)\n",
    "ins_df.head()"
   ]
  },
  {
   "cell_type": "markdown",
   "id": "b14abdd7",
   "metadata": {},
   "source": [
    "## OHE Smoker"
   ]
  },
  {
   "cell_type": "code",
   "execution_count": 10,
   "id": "fbd9ed16",
   "metadata": {},
   "outputs": [
    {
     "data": {
      "text/html": [
       "<div>\n",
       "<style scoped>\n",
       "    .dataframe tbody tr th:only-of-type {\n",
       "        vertical-align: middle;\n",
       "    }\n",
       "\n",
       "    .dataframe tbody tr th {\n",
       "        vertical-align: top;\n",
       "    }\n",
       "\n",
       "    .dataframe thead th {\n",
       "        text-align: right;\n",
       "    }\n",
       "</style>\n",
       "<table border=\"1\" class=\"dataframe\">\n",
       "  <thead>\n",
       "    <tr style=\"text-align: right;\">\n",
       "      <th></th>\n",
       "      <th>age</th>\n",
       "      <th>bmi</th>\n",
       "      <th>children</th>\n",
       "      <th>region</th>\n",
       "      <th>charges</th>\n",
       "      <th>male</th>\n",
       "      <th>female</th>\n",
       "      <th>smoke_yes</th>\n",
       "      <th>smoke_no</th>\n",
       "    </tr>\n",
       "  </thead>\n",
       "  <tbody>\n",
       "    <tr>\n",
       "      <th>0</th>\n",
       "      <td>19</td>\n",
       "      <td>27.900</td>\n",
       "      <td>0</td>\n",
       "      <td>southwest</td>\n",
       "      <td>16884.92400</td>\n",
       "      <td>0.0</td>\n",
       "      <td>1.0</td>\n",
       "      <td>1.0</td>\n",
       "      <td>0.0</td>\n",
       "    </tr>\n",
       "    <tr>\n",
       "      <th>1</th>\n",
       "      <td>18</td>\n",
       "      <td>33.770</td>\n",
       "      <td>1</td>\n",
       "      <td>southeast</td>\n",
       "      <td>1725.55230</td>\n",
       "      <td>1.0</td>\n",
       "      <td>0.0</td>\n",
       "      <td>0.0</td>\n",
       "      <td>1.0</td>\n",
       "    </tr>\n",
       "    <tr>\n",
       "      <th>2</th>\n",
       "      <td>28</td>\n",
       "      <td>33.000</td>\n",
       "      <td>3</td>\n",
       "      <td>southeast</td>\n",
       "      <td>4449.46200</td>\n",
       "      <td>1.0</td>\n",
       "      <td>0.0</td>\n",
       "      <td>0.0</td>\n",
       "      <td>1.0</td>\n",
       "    </tr>\n",
       "    <tr>\n",
       "      <th>3</th>\n",
       "      <td>33</td>\n",
       "      <td>22.705</td>\n",
       "      <td>0</td>\n",
       "      <td>northwest</td>\n",
       "      <td>21984.47061</td>\n",
       "      <td>1.0</td>\n",
       "      <td>0.0</td>\n",
       "      <td>0.0</td>\n",
       "      <td>1.0</td>\n",
       "    </tr>\n",
       "    <tr>\n",
       "      <th>4</th>\n",
       "      <td>32</td>\n",
       "      <td>28.880</td>\n",
       "      <td>0</td>\n",
       "      <td>northwest</td>\n",
       "      <td>3866.85520</td>\n",
       "      <td>1.0</td>\n",
       "      <td>0.0</td>\n",
       "      <td>0.0</td>\n",
       "      <td>1.0</td>\n",
       "    </tr>\n",
       "  </tbody>\n",
       "</table>\n",
       "</div>"
      ],
      "text/plain": [
       "   age     bmi  children     region      charges  male  female  smoke_yes  \\\n",
       "0   19  27.900         0  southwest  16884.92400   0.0     1.0        1.0   \n",
       "1   18  33.770         1  southeast   1725.55230   1.0     0.0        0.0   \n",
       "2   28  33.000         3  southeast   4449.46200   1.0     0.0        0.0   \n",
       "3   33  22.705         0  northwest  21984.47061   1.0     0.0        0.0   \n",
       "4   32  28.880         0  northwest   3866.85520   1.0     0.0        0.0   \n",
       "\n",
       "   smoke_no  \n",
       "0       0.0  \n",
       "1       1.0  \n",
       "2       1.0  \n",
       "3       1.0  \n",
       "4       1.0  "
      ]
     },
     "execution_count": 10,
     "metadata": {},
     "output_type": "execute_result"
    }
   ],
   "source": [
    "# reference\n",
    "# https://pandas.pydata.org/pandas-docs/stable/user_guide/indexing.html#returning-a-view-versus-a-copy\n",
    "\n",
    "# smoker 1\n",
    "mask = ins_df['smoker'].str.startswith('y')\n",
    "ins_df.loc[mask,('smoke_yes','smoke_no')] = [1,0]\n",
    "\n",
    "# non-smoker 1\n",
    "mask = ins_df['smoker'].str.startswith('n')\n",
    "ins_df.loc[mask,('smoke_yes','smoke_no')] = [0,1]\n",
    "\n",
    "# drop 'smoker'\n",
    "ins_df.drop(columns='smoker', inplace=True)\n",
    "ins_df.head()"
   ]
  },
  {
   "cell_type": "markdown",
   "id": "8fb0262d",
   "metadata": {},
   "source": [
    "## OHE Region"
   ]
  },
  {
   "cell_type": "code",
   "execution_count": 11,
   "id": "e870ed7c",
   "metadata": {},
   "outputs": [
    {
     "data": {
      "text/html": [
       "<div>\n",
       "<style scoped>\n",
       "    .dataframe tbody tr th:only-of-type {\n",
       "        vertical-align: middle;\n",
       "    }\n",
       "\n",
       "    .dataframe tbody tr th {\n",
       "        vertical-align: top;\n",
       "    }\n",
       "\n",
       "    .dataframe thead th {\n",
       "        text-align: right;\n",
       "    }\n",
       "</style>\n",
       "<table border=\"1\" class=\"dataframe\">\n",
       "  <thead>\n",
       "    <tr style=\"text-align: right;\">\n",
       "      <th></th>\n",
       "      <th>age</th>\n",
       "      <th>bmi</th>\n",
       "      <th>children</th>\n",
       "      <th>charges</th>\n",
       "      <th>male</th>\n",
       "      <th>female</th>\n",
       "      <th>smoke_yes</th>\n",
       "      <th>smoke_no</th>\n",
       "      <th>sw</th>\n",
       "      <th>se</th>\n",
       "      <th>nw</th>\n",
       "      <th>ne</th>\n",
       "    </tr>\n",
       "  </thead>\n",
       "  <tbody>\n",
       "    <tr>\n",
       "      <th>0</th>\n",
       "      <td>19</td>\n",
       "      <td>27.900</td>\n",
       "      <td>0</td>\n",
       "      <td>16884.92400</td>\n",
       "      <td>0.0</td>\n",
       "      <td>1.0</td>\n",
       "      <td>1.0</td>\n",
       "      <td>0.0</td>\n",
       "      <td>1.0</td>\n",
       "      <td>0.0</td>\n",
       "      <td>0.0</td>\n",
       "      <td>0.0</td>\n",
       "    </tr>\n",
       "    <tr>\n",
       "      <th>1</th>\n",
       "      <td>18</td>\n",
       "      <td>33.770</td>\n",
       "      <td>1</td>\n",
       "      <td>1725.55230</td>\n",
       "      <td>1.0</td>\n",
       "      <td>0.0</td>\n",
       "      <td>0.0</td>\n",
       "      <td>1.0</td>\n",
       "      <td>0.0</td>\n",
       "      <td>1.0</td>\n",
       "      <td>0.0</td>\n",
       "      <td>0.0</td>\n",
       "    </tr>\n",
       "    <tr>\n",
       "      <th>2</th>\n",
       "      <td>28</td>\n",
       "      <td>33.000</td>\n",
       "      <td>3</td>\n",
       "      <td>4449.46200</td>\n",
       "      <td>1.0</td>\n",
       "      <td>0.0</td>\n",
       "      <td>0.0</td>\n",
       "      <td>1.0</td>\n",
       "      <td>0.0</td>\n",
       "      <td>1.0</td>\n",
       "      <td>0.0</td>\n",
       "      <td>0.0</td>\n",
       "    </tr>\n",
       "    <tr>\n",
       "      <th>3</th>\n",
       "      <td>33</td>\n",
       "      <td>22.705</td>\n",
       "      <td>0</td>\n",
       "      <td>21984.47061</td>\n",
       "      <td>1.0</td>\n",
       "      <td>0.0</td>\n",
       "      <td>0.0</td>\n",
       "      <td>1.0</td>\n",
       "      <td>0.0</td>\n",
       "      <td>0.0</td>\n",
       "      <td>0.0</td>\n",
       "      <td>1.0</td>\n",
       "    </tr>\n",
       "    <tr>\n",
       "      <th>4</th>\n",
       "      <td>32</td>\n",
       "      <td>28.880</td>\n",
       "      <td>0</td>\n",
       "      <td>3866.85520</td>\n",
       "      <td>1.0</td>\n",
       "      <td>0.0</td>\n",
       "      <td>0.0</td>\n",
       "      <td>1.0</td>\n",
       "      <td>0.0</td>\n",
       "      <td>0.0</td>\n",
       "      <td>0.0</td>\n",
       "      <td>1.0</td>\n",
       "    </tr>\n",
       "  </tbody>\n",
       "</table>\n",
       "</div>"
      ],
      "text/plain": [
       "   age     bmi  children      charges  male  female  smoke_yes  smoke_no   sw  \\\n",
       "0   19  27.900         0  16884.92400   0.0     1.0        1.0       0.0  1.0   \n",
       "1   18  33.770         1   1725.55230   1.0     0.0        0.0       1.0  0.0   \n",
       "2   28  33.000         3   4449.46200   1.0     0.0        0.0       1.0  0.0   \n",
       "3   33  22.705         0  21984.47061   1.0     0.0        0.0       1.0  0.0   \n",
       "4   32  28.880         0   3866.85520   1.0     0.0        0.0       1.0  0.0   \n",
       "\n",
       "    se   nw   ne  \n",
       "0  0.0  0.0  0.0  \n",
       "1  1.0  0.0  0.0  \n",
       "2  1.0  0.0  0.0  \n",
       "3  0.0  0.0  1.0  \n",
       "4  0.0  0.0  1.0  "
      ]
     },
     "execution_count": 11,
     "metadata": {},
     "output_type": "execute_result"
    }
   ],
   "source": [
    "# reference\n",
    "# https://pandas.pydata.org/pandas-docs/stable/user_guide/indexing.html#returning-a-view-versus-a-copy\n",
    "\n",
    "# southwest 1\n",
    "mask = ins_df['region'].str.startswith('southw')\n",
    "ins_df.loc[mask,('sw','se','nw','ne')] = [1,0,0,0]\n",
    "\n",
    "# southeast 1\n",
    "mask = ins_df['region'].str.startswith('southe')\n",
    "ins_df.loc[mask,('sw','se','nw','ne')] = [0,1,0,0]\n",
    "\n",
    "# northwest 1\n",
    "mask = ins_df['region'].str.startswith('northe')\n",
    "ins_df.loc[mask,('sw','se','nw','ne')] = [0,0,1,0]\n",
    "\n",
    "# northeast 1\n",
    "mask = ins_df['region'].str.startswith('northw')\n",
    "ins_df.loc[mask,('sw','se','nw','ne')] = [0,0,0,1]\n",
    "\n",
    "# drop 'region'\n",
    "ins_df.drop(columns='region', inplace=True)\n",
    "ins_df.head()"
   ]
  },
  {
   "cell_type": "code",
   "execution_count": 12,
   "id": "5a9a1dc7",
   "metadata": {},
   "outputs": [
    {
     "name": "stdout",
     "output_type": "stream",
     "text": [
      "<class 'pandas.core.frame.DataFrame'>\n",
      "Int64Index: 1337 entries, 0 to 1337\n",
      "Data columns (total 12 columns):\n",
      " #   Column     Non-Null Count  Dtype  \n",
      "---  ------     --------------  -----  \n",
      " 0   age        1337 non-null   int64  \n",
      " 1   bmi        1337 non-null   float64\n",
      " 2   children   1337 non-null   int64  \n",
      " 3   charges    1337 non-null   float64\n",
      " 4   male       1337 non-null   float64\n",
      " 5   female     1337 non-null   float64\n",
      " 6   smoke_yes  1337 non-null   float64\n",
      " 7   smoke_no   1337 non-null   float64\n",
      " 8   sw         1337 non-null   float64\n",
      " 9   se         1337 non-null   float64\n",
      " 10  nw         1337 non-null   float64\n",
      " 11  ne         1337 non-null   float64\n",
      "dtypes: float64(10), int64(2)\n",
      "memory usage: 135.8 KB\n"
     ]
    }
   ],
   "source": [
    "# verify dtypes\n",
    "ins_df.info()"
   ]
  },
  {
   "cell_type": "markdown",
   "id": "8857005b",
   "metadata": {},
   "source": [
    "# Smokers vs Non-smokers"
   ]
  },
  {
   "cell_type": "markdown",
   "id": "29aac586",
   "metadata": {},
   "source": [
    "## Hypotheses"
   ]
  },
  {
   "cell_type": "markdown",
   "id": "5445f2ad",
   "metadata": {},
   "source": [
    "\\begin{align*}\n",
    "   H_0 & : \\text{Smokers and Non-smokers have the same insurance charges.}\n",
    "   \\\\\n",
    "   H_A & : \\text{Smokers have higher insurance charges than non-smokers.}\n",
    "\\end{align*}"
   ]
  },
  {
   "cell_type": "markdown",
   "id": "6b5b2d8f",
   "metadata": {},
   "source": [
    "## Method of Testing"
   ]
  },
  {
   "cell_type": "markdown",
   "id": "dc031b38",
   "metadata": {},
   "source": [
    "There are 2 numerical samples that are being compared:\n",
    "- smokers' insurance charges\n",
    "- non-smokers' insurance charges\n",
    "\n",
    "A 2 Sample T-test would be more appropriate at this time."
   ]
  },
  {
   "cell_type": "markdown",
   "id": "4ae28a90",
   "metadata": {},
   "source": [
    "## Testing Assumptions"
   ]
  },
  {
   "cell_type": "markdown",
   "id": "6ad40fbd",
   "metadata": {},
   "source": [
    "Assumptions:\n",
    "- No significant outliers\n",
    "- Normality\n",
    "- Equal Variance"
   ]
  },
  {
   "cell_type": "code",
   "execution_count": 13,
   "id": "bce4358d",
   "metadata": {},
   "outputs": [
    {
     "data": {
      "text/plain": [
       "0       16884.92400\n",
       "11      27808.72510\n",
       "14      39611.75770\n",
       "19      36837.46700\n",
       "23      37701.87680\n",
       "           ...     \n",
       "1313    36397.57600\n",
       "1314    18765.87545\n",
       "1321    28101.33305\n",
       "1323    43896.37630\n",
       "1337    29141.36030\n",
       "Name: charges, Length: 274, dtype: float64"
      ]
     },
     "execution_count": 13,
     "metadata": {},
     "output_type": "execute_result"
    }
   ],
   "source": [
    "# filter df for smokers\n",
    "sm = ins_df[ins_df['smoke_yes']==1]\n",
    "sm\n",
    "\n",
    "# select just the charges column\n",
    "sm_chrg = sm['charges']\n",
    "sm_chrg"
   ]
  },
  {
   "cell_type": "code",
   "execution_count": 14,
   "id": "e2d1b925",
   "metadata": {},
   "outputs": [
    {
     "data": {
      "text/plain": [
       "count      274.000000\n",
       "mean     32050.231832\n",
       "std      11541.547176\n",
       "min      12829.455100\n",
       "25%      20826.244213\n",
       "50%      34456.348450\n",
       "75%      41019.207275\n",
       "max      63770.428010\n",
       "Name: charges, dtype: float64"
      ]
     },
     "execution_count": 14,
     "metadata": {},
     "output_type": "execute_result"
    }
   ],
   "source": [
    "sm_chrg.describe()"
   ]
  },
  {
   "cell_type": "markdown",
   "id": "87f43b2e",
   "metadata": {},
   "source": [
    "### Outliers"
   ]
  },
  {
   "cell_type": "code",
   "execution_count": 15,
   "id": "6dee2489",
   "metadata": {},
   "outputs": [
    {
     "name": "stdout",
     "output_type": "stream",
     "text": [
      "3 sd below the mean: -2574.4096952345244\n",
      "3 sd above the mean: 66674.8733583002\n"
     ]
    }
   ],
   "source": [
    "# outliers\n",
    "print(f\"3 sd below the mean: {sm_chrg.mean() - 3 * sm_chrg.std()}\")\n",
    "print(f\"3 sd above the mean: {sm_chrg.mean() + 3 * sm_chrg.std()}\")\n",
    "\n",
    "# There are no values above or below 3 standard deviations from the mean"
   ]
  },
  {
   "cell_type": "code",
   "execution_count": 16,
   "id": "e96e637c",
   "metadata": {},
   "outputs": [
    {
     "data": {
      "text/plain": [
       "1        1725.55230\n",
       "2        4449.46200\n",
       "3       21984.47061\n",
       "4        3866.85520\n",
       "5        3756.62160\n",
       "           ...     \n",
       "1332    11411.68500\n",
       "1333    10600.54830\n",
       "1334     2205.98080\n",
       "1335     1629.83350\n",
       "1336     2007.94500\n",
       "Name: charges, Length: 1063, dtype: float64"
      ]
     },
     "execution_count": 16,
     "metadata": {},
     "output_type": "execute_result"
    }
   ],
   "source": [
    "# filter df for non-smokers\n",
    "non_sm = ins_df[ins_df['smoke_no']==1]\n",
    "non_sm\n",
    "\n",
    "# select just the charges column\n",
    "non_sm_chrg = non_sm['charges']\n",
    "non_sm_chrg"
   ]
  },
  {
   "cell_type": "code",
   "execution_count": 17,
   "id": "37080ebb",
   "metadata": {},
   "outputs": [
    {
     "data": {
      "text/plain": [
       "count     1063.000000\n",
       "mean      8440.660307\n",
       "std       5992.973800\n",
       "min       1121.873900\n",
       "25%       3988.883500\n",
       "50%       7345.726600\n",
       "75%      11363.019100\n",
       "max      36910.608030\n",
       "Name: charges, dtype: float64"
      ]
     },
     "execution_count": 17,
     "metadata": {},
     "output_type": "execute_result"
    }
   ],
   "source": [
    "non_sm_chrg.describe()"
   ]
  },
  {
   "cell_type": "code",
   "execution_count": 18,
   "id": "21660d84",
   "metadata": {},
   "outputs": [
    {
     "name": "stdout",
     "output_type": "stream",
     "text": [
      "3 sd below the mean: -9538.261093810637\n",
      "3 sd above the mean: 26419.58170682851\n"
     ]
    }
   ],
   "source": [
    "# outliers\n",
    "print(f\"3 sd below the mean: {non_sm_chrg.mean() - 3 * non_sm_chrg.std()}\")\n",
    "print(f\"3 sd above the mean: {non_sm_chrg.mean() + 3 * non_sm_chrg.std()}\")\n",
    "\n",
    "# There are at least 1 values above 3 standard deviations from the mean, but none below"
   ]
  },
  {
   "cell_type": "code",
   "execution_count": 19,
   "id": "3d92853f",
   "metadata": {},
   "outputs": [
    {
     "data": {
      "text/plain": [
       "24"
      ]
     },
     "execution_count": 19,
     "metadata": {},
     "output_type": "execute_result"
    }
   ],
   "source": [
    "# find out how many outliers there are above 3 sd\n",
    "upper = non_sm_chrg.mean() + 3 * non_sm_chrg.std()\n",
    "\n",
    "outliers = non_sm_chrg[non_sm_chrg > upper].count()\n",
    "outliers\n",
    "\n",
    "# There are 24"
   ]
  },
  {
   "cell_type": "code",
   "execution_count": 20,
   "id": "c366ee79",
   "metadata": {},
   "outputs": [
    {
     "data": {
      "text/plain": [
       "0"
      ]
     },
     "execution_count": 20,
     "metadata": {},
     "output_type": "execute_result"
    }
   ],
   "source": [
    "# removing outliers\n",
    "non_sm_chrg = non_sm_chrg[non_sm_chrg < upper]\n",
    "\n",
    "# review\n",
    "outliers = non_sm_chrg[non_sm_chrg > upper].count()\n",
    "outliers\n",
    "\n",
    "# success!"
   ]
  },
  {
   "cell_type": "markdown",
   "id": "76d82143",
   "metadata": {},
   "source": [
    "### Normality"
   ]
  },
  {
   "cell_type": "code",
   "execution_count": 21,
   "id": "849c251d",
   "metadata": {},
   "outputs": [
    {
     "data": {
      "text/plain": [
       "count     1313.000000\n",
       "mean     12976.069488\n",
       "std      12002.673347\n",
       "min       1121.873900\n",
       "25%       4686.388700\n",
       "50%       9222.402600\n",
       "75%      15359.104500\n",
       "max      63770.428010\n",
       "Name: charges, dtype: float64"
      ]
     },
     "execution_count": 21,
     "metadata": {},
     "output_type": "execute_result"
    }
   ],
   "source": [
    "# normality\n",
    "\n",
    "# concat both data frames\n",
    "frames = sm_chrg,non_sm_chrg\n",
    "data = pd.concat(frames, ignore_index=True, copy=False)\n",
    "data.describe()"
   ]
  },
  {
   "cell_type": "code",
   "execution_count": 22,
   "id": "bcfd3928",
   "metadata": {},
   "outputs": [
    {
     "data": {
      "image/png": "[encoded data removed]",
      "text/plain": [
       "<Figure size 1080x432 with 1 Axes>"
      ]
     },
     "metadata": {
      "needs_background": "light"
     },
     "output_type": "display_data"
    }
   ],
   "source": [
    "## Slice out data and calc stats\n",
    "mean = np.mean(data)\n",
    "med = np.median(data)\n",
    "## Make figure and plot histogram\n",
    "fig, ax = plt.subplots(figsize=(15,6))\n",
    "sns.histplot(x=data, kde=True, ax=ax, stat='density')\n",
    "ax.set_title('Distribution of Insurance Charges for Smokers & Non-Smokers')\n",
    "## Annotate mean and median\n",
    "ax.axvline(mean,ls=':', color='black', lw=3, label =f\"Mean: {mean:.2f}\")\n",
    "ax.axvline(med,ls='--', color='green', lw=3, label =f\"Median: {med:.2f}\")\n",
    "ax.legend();"
   ]
  },
  {
   "cell_type": "markdown",
   "id": "6eb58dce",
   "metadata": {},
   "source": [
    "The graphs is skewed right; therefore, the data is not normal."
   ]
  },
  {
   "cell_type": "code",
   "execution_count": 23,
   "id": "406c6c66",
   "metadata": {},
   "outputs": [
    {
     "name": "stdout",
     "output_type": "stream",
     "text": [
      "NormaltestResult(statistic=364.58295195722803, pvalue=6.789188774775914e-80)\n"
     ]
    },
    {
     "data": {
      "text/plain": [
       "True"
      ]
     },
     "execution_count": 23,
     "metadata": {},
     "output_type": "execute_result"
    }
   ],
   "source": [
    "# run D’Agostino and Pearson’s Normality Test to verify\n",
    "result = stats.normaltest(data)\n",
    "print(result)\n",
    "# Is the p-value less than 0.05?\n",
    "result.pvalue < .05"
   ]
  },
  {
   "cell_type": "markdown",
   "id": "31ccc54f",
   "metadata": {},
   "source": [
    "The Null Hypothesis for the previous test is that the data is normal. Since the test resulted in a p-value extremely below the alpha, we can reject the Null Hypothesis and determine that the data is **NOT normal**.\n",
    "\n",
    "Although the data is not normal, we can safely ignore the normality assumption since both groups are greater than 15."
   ]
  },
  {
   "cell_type": "markdown",
   "id": "1254f168",
   "metadata": {},
   "source": [
    "### Equal Variance"
   ]
  },
  {
   "cell_type": "code",
   "execution_count": 24,
   "id": "bbed700f",
   "metadata": {},
   "outputs": [
    {
     "data": {
      "text/plain": [
       "LeveneResult(statistic=520.7178262969225, pvalue=2.512613039096279e-97)"
      ]
     },
     "execution_count": 24,
     "metadata": {},
     "output_type": "execute_result"
    }
   ],
   "source": [
    "# using a Levene's Test to test for equal variance\n",
    "stats.levene(sm_chrg,non_sm_chrg)"
   ]
  },
  {
   "cell_type": "markdown",
   "id": "39a27071",
   "metadata": {},
   "source": [
    "The test results show that the data does not have equal variance. Instead of a 2-Sample T-test, I will perform a T-Test with 'equal_val=False'."
   ]
  },
  {
   "cell_type": "markdown",
   "id": "4f24298e",
   "metadata": {},
   "source": [
    "## Execute Test"
   ]
  },
  {
   "cell_type": "code",
   "execution_count": 25,
   "id": "5b41f8b3",
   "metadata": {},
   "outputs": [
    {
     "data": {
      "text/plain": [
       "Ttest_indResult(statistic=33.723466247187815, pvalue=2.7282718648018296e-104)"
      ]
     },
     "execution_count": 25,
     "metadata": {},
     "output_type": "execute_result"
    }
   ],
   "source": [
    "# T-test with equal_var=False\n",
    "stats.ttest_ind(sm_chrg,non_sm_chrg, equal_var=False)"
   ]
  },
  {
   "cell_type": "markdown",
   "id": "d7b6a3de",
   "metadata": {},
   "source": [
    "## Interpret P-value"
   ]
  },
  {
   "cell_type": "markdown",
   "id": "c0ff5ef1",
   "metadata": {},
   "source": [
    "$2.728\\times10^{-104}$"
   ]
  },
  {
   "cell_type": "markdown",
   "id": "67c0a221",
   "metadata": {},
   "source": [
    "That is an extremely small p-value. This is far below the alpha of 0.05; therefore, we should reject the null hypothesis that the insurance charges are the same between smokers and non-smokers."
   ]
  },
  {
   "cell_type": "markdown",
   "id": "fa92cd15",
   "metadata": {},
   "source": [
    "## Visualization"
   ]
  },
  {
   "cell_type": "code",
   "execution_count": 26,
   "id": "a18fda2a",
   "metadata": {},
   "outputs": [
    {
     "data": {
      "image/png": "[encoded data removed]",
      "text/plain": [
       "<Figure size 720x504 with 1 Axes>"
      ]
     },
     "metadata": {
      "needs_background": "light"
     },
     "output_type": "display_data"
    }
   ],
   "source": [
    "fig, axs = plt.subplots(1, 1, figsize=(10, 7))\n",
    "\n",
    "sns.histplot(sm_chrg, kde=True, label=\"Insurance Charges for Smokers\", color=\"red\")\n",
    "sns.histplot(non_sm_chrg, kde=True, label=\"Insurance Charges for Non-Smokers\", color=\"blue\")\n",
    "\n",
    "plt.legend();"
   ]
  },
  {
   "cell_type": "markdown",
   "id": "ff2f5ce2",
   "metadata": {},
   "source": [
    "It is very clear in the visualization that non-smokers are spend less for insurance charges."
   ]
  },
  {
   "cell_type": "markdown",
   "id": "8df73275",
   "metadata": {},
   "source": [
    "# Men vs Women"
   ]
  },
  {
   "cell_type": "markdown",
   "id": "40167668",
   "metadata": {},
   "source": [
    "## Hypotheses"
   ]
  },
  {
   "cell_type": "markdown",
   "id": "c29b0d72",
   "metadata": {},
   "source": [
    "\\begin{align*}\n",
    "   H_0 & : \\text{There is no difference in the proportion of men and women who smoke.}\n",
    "   \\\\\n",
    "   H_A & : \\text{A higher proportion of men smoke than women.}\n",
    "\\end{align*}"
   ]
  },
  {
   "cell_type": "markdown",
   "id": "8ac5a958",
   "metadata": {},
   "source": [
    "## Method of Testing"
   ]
  },
  {
   "cell_type": "markdown",
   "id": "d4f87657",
   "metadata": {},
   "source": [
    "There are 2 categorical samples that are being compared:\n",
    "- men who smoke\n",
    "- women who smoke\n",
    "\n",
    "A Chi-Square test would be most appropriate here."
   ]
  },
  {
   "cell_type": "markdown",
   "id": "c44c0667",
   "metadata": {},
   "source": [
    "## Testing Assumptions"
   ]
  },
  {
   "cell_type": "markdown",
   "id": "c46819de",
   "metadata": {},
   "source": [
    "- There are two categorical variables (ordinal or nominal)\n",
    "- The outcomes are independent"
   ]
  },
  {
   "cell_type": "markdown",
   "id": "c7bceec8",
   "metadata": {},
   "source": [
    "### Variables"
   ]
  },
  {
   "cell_type": "markdown",
   "id": "224d0120",
   "metadata": {},
   "source": [
    "There are two categorical variables, \"yes\" and \"no\", coded as 1 and 0 respectively."
   ]
  },
  {
   "cell_type": "markdown",
   "id": "91725a1d",
   "metadata": {},
   "source": [
    "### Independent Outcomes"
   ]
  },
  {
   "cell_type": "markdown",
   "id": "e0b0d853",
   "metadata": {},
   "source": [
    "To the best of our knowledge, we assume the outcomes are independent of each other in this dataset."
   ]
  },
  {
   "cell_type": "markdown",
   "id": "edc4a0ae",
   "metadata": {},
   "source": [
    "## Execute Test"
   ]
  },
  {
   "cell_type": "code",
   "execution_count": 27,
   "id": "9857ade8",
   "metadata": {},
   "outputs": [
    {
     "name": "stdout",
     "output_type": "stream",
     "text": [
      "The percentage of males that smoke: 23.56%\n",
      "The percentage of females that smoke: 17.37%\n"
     ]
    }
   ],
   "source": [
    "# preview results of males and females\n",
    "male = ins_df[ins_df['male'] == 1]\n",
    "male_sm = male['smoke_yes']\n",
    "\n",
    "female = ins_df[ins_df['female'] == 1]\n",
    "female_sm = female['smoke_yes']\n",
    "\n",
    "print(f\"The percentage of males that smoke: {male_sm.mean().round(4)*100}%\")\n",
    "print(f\"The percentage of females that smoke: {female_sm.mean().round(4)*100}%\")"
   ]
  },
  {
   "cell_type": "code",
   "execution_count": 28,
   "id": "9aa8ba0d",
   "metadata": {},
   "outputs": [
    {
     "data": {
      "text/html": [
       "<div>\n",
       "<style scoped>\n",
       "    .dataframe tbody tr th:only-of-type {\n",
       "        vertical-align: middle;\n",
       "    }\n",
       "\n",
       "    .dataframe tbody tr th {\n",
       "        vertical-align: top;\n",
       "    }\n",
       "\n",
       "    .dataframe thead th {\n",
       "        text-align: right;\n",
       "    }\n",
       "</style>\n",
       "<table border=\"1\" class=\"dataframe\">\n",
       "  <thead>\n",
       "    <tr style=\"text-align: right;\">\n",
       "      <th>smoker</th>\n",
       "      <th>no</th>\n",
       "      <th>yes</th>\n",
       "    </tr>\n",
       "    <tr>\n",
       "      <th>sex</th>\n",
       "      <th></th>\n",
       "      <th></th>\n",
       "    </tr>\n",
       "  </thead>\n",
       "  <tbody>\n",
       "    <tr>\n",
       "      <th>female</th>\n",
       "      <td>547</td>\n",
       "      <td>115</td>\n",
       "    </tr>\n",
       "    <tr>\n",
       "      <th>male</th>\n",
       "      <td>516</td>\n",
       "      <td>159</td>\n",
       "    </tr>\n",
       "  </tbody>\n",
       "</table>\n",
       "</div>"
      ],
      "text/plain": [
       "smoker   no  yes\n",
       "sex             \n",
       "female  547  115\n",
       "male    516  159"
      ]
     },
     "execution_count": 28,
     "metadata": {},
     "output_type": "execute_result"
    }
   ],
   "source": [
    "# create contingency table of 'sex' and 'smoker'\n",
    "table = pd.crosstab(df['sex'], df['smoker'])\n",
    "table"
   ]
  },
  {
   "cell_type": "code",
   "execution_count": 29,
   "id": "c84b8aed",
   "metadata": {},
   "outputs": [],
   "source": [
    "# Run the Test and Save the Output\n",
    "result = stats.chi2_contingency(table)\n",
    "chi2, p, deg_free, expected_vals = result #this labels the results"
   ]
  },
  {
   "cell_type": "code",
   "execution_count": 30,
   "id": "b2265e3e",
   "metadata": {},
   "outputs": [
    {
     "name": "stdout",
     "output_type": "stream",
     "text": [
      "0.0063\n"
     ]
    },
    {
     "data": {
      "text/plain": [
       "True"
      ]
     },
     "execution_count": 30,
     "metadata": {},
     "output_type": "execute_result"
    }
   ],
   "source": [
    "# What was our P-value?\n",
    "print(p.round(4))\n",
    "p<.05"
   ]
  },
  {
   "cell_type": "markdown",
   "id": "8f2a6fc2",
   "metadata": {},
   "source": [
    "## Interpret P-value"
   ]
  },
  {
   "cell_type": "markdown",
   "id": "d9242273",
   "metadata": {},
   "source": [
    "The P-value is well below our alpha; therefore, we should reject the null hypothesis. The data suggests that males smoke more than females."
   ]
  },
  {
   "cell_type": "markdown",
   "id": "b60d3bc3",
   "metadata": {},
   "source": [
    "## Visualization"
   ]
  },
  {
   "cell_type": "code",
   "execution_count": 31,
   "id": "c1082610",
   "metadata": {},
   "outputs": [
    {
     "data": {
      "image/png": "[encoded data removed]",
      "text/plain": [
       "<Figure size 432x288 with 1 Axes>"
      ]
     },
     "metadata": {
      "needs_background": "light"
     },
     "output_type": "display_data"
    }
   ],
   "source": [
    "# countplot of smokers by sex\n",
    "ax = sns.countplot(data=df, x='smoker',hue='sex',)\n",
    "ax.set_title(\"Number of Smokers by Sex\");"
   ]
  },
  {
   "cell_type": "markdown",
   "id": "1a60f7af",
   "metadata": {},
   "source": [
    "From this barplot, it appears that males smoke slightly more than females."
   ]
  },
  {
   "cell_type": "markdown",
   "id": "1d72861c",
   "metadata": {},
   "source": [
    "# Region Charges"
   ]
  },
  {
   "cell_type": "markdown",
   "id": "3efa1310",
   "metadata": {},
   "source": [
    "## Hypotheses"
   ]
  },
  {
   "cell_type": "markdown",
   "id": "fe9594c9",
   "metadata": {},
   "source": [
    "\\begin{align*}\n",
    "   H_0 & : \\text{On average, all regions have the same charges.}\n",
    "   \\\\\n",
    "   H_A & : \\text{On average, all regions do not have the same charges.}\n",
    "\\end{align*}"
   ]
  },
  {
   "cell_type": "markdown",
   "id": "7e3a7def",
   "metadata": {},
   "source": [
    "## Method of Testing"
   ]
  },
  {
   "cell_type": "markdown",
   "id": "6b0130f6",
   "metadata": {},
   "source": [
    "There are more than 2 numerical samples that are being compared:\n",
    "- southwest insurance charges\n",
    "- southeast insurance charges\n",
    "- northwest insurance charges\n",
    "- northeast insurance charges\n",
    "\n",
    "An ANOVA and/or Tukey test would be most appropriate here."
   ]
  },
  {
   "cell_type": "markdown",
   "id": "124514ac",
   "metadata": {},
   "source": [
    "## Testing Assumptions"
   ]
  },
  {
   "cell_type": "markdown",
   "id": "3b290a54",
   "metadata": {},
   "source": [
    "- No significant outliers\n",
    "- Equal variance\n",
    "- Normality"
   ]
  },
  {
   "cell_type": "markdown",
   "id": "76a42b39",
   "metadata": {},
   "source": [
    "### Outliers"
   ]
  },
  {
   "cell_type": "code",
   "execution_count": 32,
   "id": "40b71ef4",
   "metadata": {},
   "outputs": [
    {
     "name": "stdout",
     "output_type": "stream",
     "text": [
      "Min: 1241.565\n",
      "Max: 52590.82939\n",
      "3 sd below the mean: -22324.59992495404\n",
      "3 sd above the mean: 47018.47467953865\n"
     ]
    }
   ],
   "source": [
    "# southwest\n",
    "sw = ins_df[ins_df['sw']==1]\n",
    "sw_chrg = sw['charges']\n",
    "\n",
    "print(f\"Min: {sw_chrg.min()}\")\n",
    "print(f\"Max: {sw_chrg.max()}\")\n",
    "\n",
    "# southwest region outliers\n",
    "print(f\"3 sd below the mean: {sw_chrg.mean() - 3 * sw_chrg.std()}\")\n",
    "print(f\"3 sd above the mean: {sw_chrg.mean() + 3 * sw_chrg.std()}\")\n",
    "\n",
    "# There are values above 3 standard deviations from the mean"
   ]
  },
  {
   "cell_type": "code",
   "execution_count": 33,
   "id": "58c33f4d",
   "metadata": {},
   "outputs": [
    {
     "data": {
      "text/plain": [
       "8"
      ]
     },
     "execution_count": 33,
     "metadata": {},
     "output_type": "execute_result"
    }
   ],
   "source": [
    "# find out how many outliers there are above 3 sd\n",
    "upper = sw_chrg.mean() + 3 * sw_chrg.std()\n",
    "\n",
    "outliers = sw_chrg[sw_chrg > upper].count()\n",
    "outliers\n",
    "\n",
    "# There are 8"
   ]
  },
  {
   "cell_type": "code",
   "execution_count": 34,
   "id": "cf6f339f",
   "metadata": {},
   "outputs": [
    {
     "data": {
      "text/plain": [
       "0"
      ]
     },
     "execution_count": 34,
     "metadata": {},
     "output_type": "execute_result"
    }
   ],
   "source": [
    "# removing outliers\n",
    "sw_chrg = sw_chrg[sw_chrg < upper]\n",
    "\n",
    "# review\n",
    "outliers = sw_chrg[sw_chrg > upper].count()\n",
    "outliers\n",
    "\n",
    "# success!"
   ]
  },
  {
   "cell_type": "code",
   "execution_count": 35,
   "id": "d0556c4c",
   "metadata": {},
   "outputs": [
    {
     "name": "stdout",
     "output_type": "stream",
     "text": [
      "Min: 1121.8739\n",
      "Max: 63770.42801\n",
      "3 sd below the mean: -27177.884329365348\n",
      "3 sd above the mean: 56648.707204585124\n"
     ]
    }
   ],
   "source": [
    "# southeast\n",
    "se = ins_df[ins_df['se']==1]\n",
    "se_chrg = se['charges']\n",
    "\n",
    "print(f\"Min: {se_chrg.min()}\")\n",
    "print(f\"Max: {se_chrg.max()}\")\n",
    "\n",
    "# southeast region outliers\n",
    "print(f\"3 sd below the mean: {se_chrg.mean() - 3 * se_chrg.std()}\")\n",
    "print(f\"3 sd above the mean: {se_chrg.mean() + 3 * se_chrg.std()}\")\n",
    "\n",
    "# There are no values above or below 3 standard deviations from the mean"
   ]
  },
  {
   "cell_type": "code",
   "execution_count": 36,
   "id": "6e13772b",
   "metadata": {},
   "outputs": [
    {
     "name": "stdout",
     "output_type": "stream",
     "text": [
      "Min: 1694.7964\n",
      "Max: 58571.07448\n",
      "3 sd below the mean: -20361.024680349583\n",
      "3 sd above the mean: 47173.793713121195\n"
     ]
    }
   ],
   "source": [
    "# northwest\n",
    "nw = ins_df[ins_df['nw']==1]\n",
    "nw_chrg = nw['charges']\n",
    "\n",
    "print(f\"Min: {nw_chrg.min()}\")\n",
    "print(f\"Max: {nw_chrg.max()}\")\n",
    "\n",
    "# northwest region outliers\n",
    "print(f\"3 sd below the mean: {nw_chrg.mean() - 3 * nw_chrg.std()}\")\n",
    "print(f\"3 sd above the mean: {nw_chrg.mean() + 3 * nw_chrg.std()}\")\n",
    "\n",
    "# There are no values above or below 3 standard deviations from the mean"
   ]
  },
  {
   "cell_type": "code",
   "execution_count": 37,
   "id": "1d7281e5",
   "metadata": {},
   "outputs": [
    {
     "name": "stdout",
     "output_type": "stream",
     "text": [
      "Min: 1621.3402\n",
      "Max: 60021.39897\n",
      "3 sd below the mean: -20768.536252981416\n",
      "3 sd above the mean: 45670.21794088265\n"
     ]
    }
   ],
   "source": [
    "# northeast\n",
    "ne = ins_df[ins_df['ne']==1]\n",
    "ne_chrg = ne['charges']\n",
    "\n",
    "print(f\"Min: {ne_chrg.min()}\")\n",
    "print(f\"Max: {ne_chrg.max()}\")\n",
    "\n",
    "# northeast region outliers\n",
    "print(f\"3 sd below the mean: {ne_chrg.mean() - 3 * ne_chrg.std()}\")\n",
    "print(f\"3 sd above the mean: {ne_chrg.mean() + 3 * ne_chrg.std()}\")\n",
    "\n",
    "# There are no values above or below 3 standard deviations from the mean"
   ]
  },
  {
   "cell_type": "markdown",
   "id": "e00476d1",
   "metadata": {},
   "source": [
    "### Normality"
   ]
  },
  {
   "cell_type": "code",
   "execution_count": 38,
   "id": "f1ffbbeb",
   "metadata": {},
   "outputs": [
    {
     "data": {
      "text/plain": [
       "count     1329.000000\n",
       "mean     13065.066936\n",
       "std      11826.247154\n",
       "min       1121.873900\n",
       "25%       4719.736550\n",
       "50%       9301.893550\n",
       "75%      16297.846000\n",
       "max      63770.428010\n",
       "Name: charges, dtype: float64"
      ]
     },
     "execution_count": 38,
     "metadata": {},
     "output_type": "execute_result"
    }
   ],
   "source": [
    "# normality\n",
    "\n",
    "# concat both data frames\n",
    "frames = sw_chrg,se_chrg,nw_chrg,ne_chrg\n",
    "data = pd.concat(frames, ignore_index=True, copy=False)\n",
    "data.describe()"
   ]
  },
  {
   "cell_type": "code",
   "execution_count": 39,
   "id": "403fdccf",
   "metadata": {},
   "outputs": [
    {
     "data": {
      "image/png": "[encoded data removed]",
      "text/plain": [
       "<Figure size 1080x432 with 1 Axes>"
      ]
     },
     "metadata": {
      "needs_background": "light"
     },
     "output_type": "display_data"
    }
   ],
   "source": [
    "## Slice out data and calc stats\n",
    "mean = np.mean(data)\n",
    "med = np.median(data)\n",
    "## Make figure and plot histogram\n",
    "fig, ax = plt.subplots(figsize=(15,6))\n",
    "sns.histplot(x=data, kde=True, ax=ax, stat='density')\n",
    "ax.set_title('Distribution of Insurance Charges for all regions')\n",
    "## Annotate mean and median\n",
    "ax.axvline(mean,ls=':', color='black', lw=3, label =f\"Mean: {mean:.2f}\")\n",
    "ax.axvline(med,ls='--', color='green', lw=3, label =f\"Median: {med:.2f}\")\n",
    "ax.legend();"
   ]
  },
  {
   "cell_type": "markdown",
   "id": "a23968f9",
   "metadata": {},
   "source": [
    "The graphs is skewed right; therefore, the data is not normal."
   ]
  },
  {
   "cell_type": "code",
   "execution_count": 40,
   "id": "45abdc04",
   "metadata": {},
   "outputs": [
    {
     "name": "stdout",
     "output_type": "stream",
     "text": [
      "NormaltestResult(statistic=340.61656322575084, pvalue=1.086558398738381e-74)\n"
     ]
    },
    {
     "data": {
      "text/plain": [
       "True"
      ]
     },
     "execution_count": 40,
     "metadata": {},
     "output_type": "execute_result"
    }
   ],
   "source": [
    "# run D’Agostino and Pearson’s Normality Test to verify\n",
    "result = stats.normaltest(data)\n",
    "print(result)\n",
    "# Is the p-value less than 0.05?\n",
    "result.pvalue < .05"
   ]
  },
  {
   "cell_type": "markdown",
   "id": "00bf4496",
   "metadata": {},
   "source": [
    "The Null Hypothesis for the previous test is that the data is normal. Since the test resulted in a p-value extremely below the alpha, we can reject the Null Hypothesis and determine that the data is **NOT normal**.\n",
    "\n",
    "Although the data is not normal, we can safely ignore the normality assumption since both groups are greater than 15."
   ]
  },
  {
   "cell_type": "markdown",
   "id": "14d8f4d4",
   "metadata": {},
   "source": [
    "### Equal Variance"
   ]
  },
  {
   "cell_type": "code",
   "execution_count": 41,
   "id": "19091358",
   "metadata": {},
   "outputs": [
    {
     "data": {
      "text/plain": [
       "LeveneResult(statistic=7.98709204110489, pvalue=2.8086239933922955e-05)"
      ]
     },
     "execution_count": 41,
     "metadata": {},
     "output_type": "execute_result"
    }
   ],
   "source": [
    "# using a Levene's Test to test for equal variance\n",
    "stats.levene(sw_chrg,se_chrg,nw_chrg,ne_chrg)"
   ]
  },
  {
   "cell_type": "markdown",
   "id": "3c974d4a",
   "metadata": {},
   "source": [
    "The test results show that the data does not have equal variance. Instead of a 2-Sample T-test, I will perform a T-Test with 'equal_val=False'."
   ]
  },
  {
   "cell_type": "markdown",
   "id": "789b0279",
   "metadata": {},
   "source": [
    "## Execute Test"
   ]
  },
  {
   "cell_type": "code",
   "execution_count": 42,
   "id": "0902454e",
   "metadata": {},
   "outputs": [
    {
     "data": {
      "text/plain": [
       "KruskalResult(statistic=7.2919270316497204, pvalue=0.06315279816356219)"
      ]
     },
     "execution_count": 42,
     "metadata": {},
     "output_type": "execute_result"
    }
   ],
   "source": [
    "# running Kruskal-Wallis test because the data set does not have equal variance\n",
    "# this is an alternate to the ANOVA test\n",
    "# I chose this because this test is based on the median\n",
    "# the median is a better choice than the mean when data is skewed\n",
    "\n",
    "stats.kruskal(sw_chrg,se_chrg,nw_chrg,ne_chrg)"
   ]
  },
  {
   "cell_type": "markdown",
   "id": "208b79c0",
   "metadata": {},
   "source": [
    "## Interpret P-value"
   ]
  },
  {
   "cell_type": "markdown",
   "id": "440ae0e7",
   "metadata": {},
   "source": [
    "The P-value is well above our alpha; therefore, we fail to reject the null hypothesis. The data does not suggests that there is a difference in charges across the four regions."
   ]
  },
  {
   "cell_type": "markdown",
   "id": "4630e365",
   "metadata": {},
   "source": [
    "## Visualization"
   ]
  },
  {
   "cell_type": "code",
   "execution_count": 43,
   "id": "bca968b1",
   "metadata": {},
   "outputs": [
    {
     "data": {
      "image/png": "[encoded data removed]",
      "text/plain": [
       "<Figure size 720x504 with 1 Axes>"
      ]
     },
     "metadata": {
      "needs_background": "light"
     },
     "output_type": "display_data"
    }
   ],
   "source": [
    "fig, axs = plt.subplots(1, 1, figsize=(10, 7))\n",
    "\n",
    "sns.histplot(sw_chrg, kde=True, label=\"southwest\", color=\"red\")\n",
    "sns.histplot(se_chrg, kde=True, label=\"southeast\", color=\"blue\")\n",
    "sns.histplot(nw_chrg, kde=True, label=\"northwest\", color=\"green\")\n",
    "sns.histplot(ne_chrg, kde=True, label=\"northeast\", color=\"yellow\")\n",
    "\n",
    "plt.legend();"
   ]
  },
  {
   "cell_type": "markdown",
   "id": "1bd9df39",
   "metadata": {},
   "source": [
    "From these graphs layered on each other, there is a lot of similarities in features. They are all skewed right. They all have maxes in the 5000-6000 range. They also have a local max around 4000."
   ]
  }
 ],
 "metadata": {
  "kernelspec": {
   "display_name": "Python (dojo-env)",
   "language": "python",
   "name": "dojo-env"
  },
  "language_info": {
   "codemirror_mode": {
    "name": "ipython",
    "version": 3
   },
   "file_extension": ".py",
   "mimetype": "text/x-python",
   "name": "python",
   "nbconvert_exporter": "python",
   "pygments_lexer": "ipython3",
   "version": "3.8.13"
  },
  "toc": {
   "base_numbering": 1,
   "nav_menu": {},
   "number_sections": false,
   "sideBar": true,
   "skip_h1_title": false,
   "title_cell": "Table of Contents",
   "title_sidebar": "Contents",
   "toc_cell": false,
   "toc_position": {
    "height": "calc(100% - 180px)",
    "left": "10px",
    "top": "150px",
    "width": "512px"
   },
   "toc_section_display": true,
   "toc_window_display": true
  }
 },
 "nbformat": 4,
 "nbformat_minor": 5
}
